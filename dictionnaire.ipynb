{
  "nbformat": 4,
  "nbformat_minor": 0,
  "metadata": {
    "colab": {
      "private_outputs": true,
      "provenance": [],
      "authorship_tag": "ABX9TyMjW6W/859u8VBeQEbqQJih",
      "include_colab_link": true
    },
    "kernelspec": {
      "name": "python3",
      "display_name": "Python 3"
    },
    "language_info": {
      "name": "python"
    }
  },
  "cells": [
    {
      "cell_type": "markdown",
      "metadata": {
        "id": "view-in-github",
        "colab_type": "text"
      },
      "source": [
        "<a href=\"https://colab.research.google.com/github/djidachahrazed/nlp_machine_learning/blob/master/dictionnaire.ipynb\" target=\"_parent\"><img src=\"https://colab.research.google.com/assets/colab-badge.svg\" alt=\"Open In Colab\"/></a>"
      ]
    },
    {
      "cell_type": "code",
      "execution_count": null,
      "metadata": {
        "id": "QumMzvnmy5rV"
      },
      "outputs": [],
      "source": [
        "d={}"
      ]
    },
    {
      "cell_type": "code",
      "source": [
        "d={'clé1':'val1','clé2':'val2'}"
      ],
      "metadata": {
        "id": "a2vEbz-Jlgl-"
      },
      "execution_count": null,
      "outputs": []
    },
    {
      "cell_type": "code",
      "source": [
        "d1=dict(nom=\"djida\",prenom=\"chahrazed\",age=\"28 ans\")\n",
        "d1"
      ],
      "metadata": {
        "id": "_iJb_nEtsY3P"
      },
      "execution_count": null,
      "outputs": []
    },
    {
      "cell_type": "code",
      "source": [
        "d['clé1']='valeur1'\n",
        "d"
      ],
      "metadata": {
        "id": "bAYFaEKFtQ8m"
      },
      "execution_count": null,
      "outputs": []
    },
    {
      "cell_type": "code",
      "source": [
        "d.get('clé2')"
      ],
      "metadata": {
        "id": "aMXtNO5TtciS"
      },
      "execution_count": null,
      "outputs": []
    },
    {
      "cell_type": "code",
      "source": [
        "print(d1.items())\n",
        "print(d1.keys())\n",
        "print(d1.values())"
      ],
      "metadata": {
        "id": "ituxjJVntmXq"
      },
      "execution_count": null,
      "outputs": []
    },
    {
      "cell_type": "code",
      "source": [
        "d3=d1.copy()\n",
        "d3"
      ],
      "metadata": {
        "id": "LyDdTgj6txx7"
      },
      "execution_count": null,
      "outputs": []
    },
    {
      "cell_type": "code",
      "source": [
        "for i,j in d3.items():\n",
        "  print(i,j)"
      ],
      "metadata": {
        "id": "eyUmZ7xKt63X"
      },
      "execution_count": null,
      "outputs": []
    },
    {
      "cell_type": "code",
      "source": [
        "for clé in d:\n",
        "  print(clé,d[clé])"
      ],
      "metadata": {
        "id": "_nHBz4FCuKDn"
      },
      "execution_count": null,
      "outputs": []
    },
    {
      "cell_type": "code",
      "source": [
        "d= {i:j for i,j in d.items()}\n",
        "d"
      ],
      "metadata": {
        "id": "6x-2sAw9uc7E"
      },
      "execution_count": null,
      "outputs": []
    },
    {
      "cell_type": "code",
      "source": [
        "taille=len(d)\n",
        "taille"
      ],
      "metadata": {
        "id": "2PV58g0rBAqx"
      },
      "execution_count": null,
      "outputs": []
    },
    {
      "cell_type": "code",
      "source": [
        "dictt=d.setdefault('clé3','valeur3')\n",
        "print(dictt)\n",
        "print(d)"
      ],
      "metadata": {
        "id": "alJ05-Z4CJoL"
      },
      "execution_count": null,
      "outputs": []
    },
    {
      "cell_type": "code",
      "source": [
        "data= list[str]"
      ],
      "metadata": {
        "id": "mwpdsnSx-1MF"
      },
      "execution_count": null,
      "outputs": []
    },
    {
      "cell_type": "code",
      "source": [
        "data=['a','b','b','c','d','e','e','e']\n",
        "d={}\n",
        "for item in data:\n",
        "  if item in d:\n",
        "    d[item]+=1\n",
        "  else:\n",
        "    d[item]=1\n",
        "print(d)"
      ],
      "metadata": {
        "id": "dxI6yEX-_E5G"
      },
      "execution_count": null,
      "outputs": []
    },
    {
      "cell_type": "code",
      "source": [
        "string=max(data,key=data.count)\n",
        "print(string)"
      ],
      "metadata": {
        "id": "XIFPGV4S2sBx"
      },
      "execution_count": null,
      "outputs": []
    },
    {
      "cell_type": "code",
      "source": [
        "forb=['chahrazed','djida','djida']\n",
        "max(forb,key=forb.count)"
      ],
      "metadata": {
        "id": "iOXclnrr4kng"
      },
      "execution_count": null,
      "outputs": []
    },
    {
      "cell_type": "code",
      "source": [],
      "metadata": {
        "id": "83XIpjlH5XBH"
      },
      "execution_count": null,
      "outputs": []
    }
  ]
}